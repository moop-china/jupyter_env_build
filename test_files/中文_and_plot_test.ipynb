{
 "cells": [
  {
   "cell_type": "markdown",
   "metadata": {},
   "source": [
    "如果运行出现<Figure size 640x480 with 1 Axes>，请运行下面的cell两次"
   ]
  },
  {
   "cell_type": "code",
   "execution_count": 2,
   "metadata": {},
   "outputs": [
    {
     "data": {
      "image/png": "[encoded data removed]",
      "text/plain": [
       "<Figure size 432x288 with 1 Axes>"
      ]
     },
     "metadata": {
      "needs_background": "light"
     },
     "output_type": "display_data"
    }
   ],
   "source": [
    "# coding = utf-8\n",
    "import matplotlib\n",
    "import matplotlib.pyplot as plt\n",
    "import seaborn as sns\n",
    "import pandas as pd\n",
    "\n",
    "df = pd.read_csv('a.csv', index_col=0)\n",
    "df.head()\n",
    "\n",
    "sns.boxplot(x=\"横轴---\", y=\"纵轴---\", hue=\"Legendary\", data=df, palette=\"PRGn\")   #palette 调色板\n",
    "plt.show()"
   ]
  },
  {
   "cell_type": "markdown",
   "metadata": {},
   "source": [
    "下面是中文markdown展示，请下载pdf以查看中文表现效果，下载方法如图所示\n",
    "![image](test_pdf.png)"
   ]
  },
  {
   "cell_type": "markdown",
   "metadata": {},
   "source": [
    "# 教程一  \n",
    "\n",
    "\n",
    "这个notebook假设读者已经了解了python的基本语法和arma的算法逻辑，对于这部分只会进行简单的解释。  \n",
    "\n",
    "我们将着重介绍的是如何用python来运用arma对数据集进行分析。  \n",
    "\n",
    "[数据集详情地址](https://www.kaggle.com/borismarjanovic/price-volume-data-for-all-us-stocks-etfs)\n",
    "本教程的数据集存放在同级目录下的data文件夹中。  \n",
    "\n",
    "下面的文档可能对于不够熟悉python的读者来说会有帮助，在遇到困难的时候，查阅文档或者询问搜索引擎是很有帮助的。  \n",
    "\n",
    "* 这里是 [pyhton的简易入门教程](https://www.liaoxuefeng.com/wiki/0014316089557264a6b348958f449949df42a6d3a2e542c000)  \n",
    "* 阿斯顿 [python中文文档](https://docs.python.org/zh-cn/3/tutorial/index.html)  \n",
    "* [python的一些常用技巧](https://python3-cookbook.readthedocs.io/zh_CN/latest/index.html)  \n",
    "\n",
    "更多的信息可以查阅numpy，pandas的手册  \n",
    "\n",
    "1. asdsad  \n",
    "2. adfasdfads  \n",
    "3. asdasf  \n",
    "\n",
    "……  \n",
    "\n",
    "这次实验的目的是通过对股票交易数据集的分析……………………\n"
   ]
  },
  {
   "cell_type": "markdown",
   "metadata": {},
   "source": [
    "# 教程一  \n",
    "\n",
    "这个notebook假设读者已经了解了python的基本语法和arma的算法逻辑，对于这部分只会进行简单的解释。  \n",
    "\n",
    "我们将着重介绍的是如何用python来运用arma对数据集进行分析。  \n",
    "\n",
    "[数据集详情地址](https://www.kaggle.com/borismarjanovic/price-volume-data-for-all-us-stocks-etfs)\n",
    "本教程的数据集存放在同级目录下的data文件夹中。  \n",
    "\n",
    "下面的文档可能对于不够熟悉python的读者来说会有帮助，在遇到困难的时候，查阅文档或者询问搜索引擎是很有帮助的。  \n",
    "\n",
    "*  这里是 [pyhton的简易入门教程](https://www.liaoxuefeng.com/wiki/0014316089557264a6b348958f449949df42a6d3a2e542c000)\n",
    "*  阿斯顿 [python中文文档](https://docs.python.org/zh-cn/3/tutorial/index.html)\n",
    "-  [python的一些常用技巧](https://python3-cookbook.readthedocs.io/zh_CN/latest/index.html)\n",
    "\n",
    "更多的信息可以查阅numpy，pandas的手册  \n",
    "\n",
    "……  \n",
    "\n",
    "这次实验的目的是通过对股票交易数据集的分析……………………\n"
   ]
  }
 ],
 "metadata": {
  "kernelspec": {
   "display_name": "Python 3",
   "language": "python",
   "name": "python3"
  },
  "language_info": {
   "codemirror_mode": {
    "name": "ipython",
    "version": 3
   },
   "file_extension": ".py",
   "mimetype": "text/x-python",
   "name": "python",
   "nbconvert_exporter": "python",
   "pygments_lexer": "ipython3",
   "version": "3.7.2"
  }
 },
 "nbformat": 4,
 "nbformat_minor": 2
}
